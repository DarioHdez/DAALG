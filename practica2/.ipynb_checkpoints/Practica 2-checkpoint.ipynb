{
 "cells": [
  {
   "cell_type": "code",
   "execution_count": 32,
   "metadata": {
    "collapsed": true
   },
   "outputs": [],
   "source": [
    "import string, random\n",
    "import numpy as np\n",
    "import matplotlib.pyplot as plt\n",
    "import sys\n",
    "import time\n",
    "import gzip\n",
    "import pickle\n",
    "import itertools\n",
    "import queue as qe\n",
    "import copy\n",
    "\n",
    "from sklearn.linear_model import LinearRegression\n",
    "\n",
    "import networkx as nx"
   ]
  },
  {
   "cell_type": "code",
   "execution_count": 2,
   "metadata": {},
   "outputs": [
    {
     "name": "stdout",
     "output_type": "stream",
     "text": [
      "{1: {0: {'weight': 10}}, 2: {0: {'weight': 1}, 1: {'weight': 1}}, 0: {0: {'weight': 10}}}\n"
     ]
    }
   ],
   "source": [
    "mg = nx.MultiDiGraph()\n",
    "\n",
    "mg.add_weighted_edges_from([(0, 1, 10), (0, 2, 1), (1, 2, 1), (2, 3, 1), (3, 1, 1)])\n",
    "mg.add_weighted_edges_from([(0, 0, 10), (0, 2, 1), (1, 2, 1), (2, 3, 1), (3, 1, 1)])\n",
    "\n",
    "print(mg[0])"
   ]
  },
  {
   "cell_type": "code",
   "execution_count": 3,
   "metadata": {
    "collapsed": true
   },
   "outputs": [],
   "source": [
    "def m_mg_2_d_mg(m_mg):\n",
    "    ret = {}\n",
    "    \n",
    "    for i in range(m_mg.shape[0]):\n",
    "        ret.update({i:{}})\n",
    "        for j in m_mg[i]:\n",
    "            if j > 0:\n",
    "                ret[i].update({j:{}})\n",
    "                for k in range(j):\n",
    "                    ret[i][j].update({k:1})\n",
    "                    \n",
    "    return ret\n",
    "            \n",
    "def rand_unweighted_multigraph(n_nodes, num_max_multiple_edges = 3, prob = 0.5):\n",
    "    \n",
    "    ramas = np.random.binomial(num_max_multiple_edges-1, 1-prob, size=(n_nodes, n_nodes)) \n",
    "\n",
    "    return m_mg_2_d_mg(ramas)"
   ]
  },
  {
   "cell_type": "code",
   "execution_count": 4,
   "metadata": {
    "collapsed": true
   },
   "outputs": [],
   "source": [
    "g = rand_unweighted_multigraph(4)"
   ]
  },
  {
   "cell_type": "code",
   "execution_count": 5,
   "metadata": {
    "collapsed": true
   },
   "outputs": [],
   "source": [
    "def graph_2_multigraph(g):\n",
    "    ret = {}\n",
    "    \n",
    "    for u in g.keys():\n",
    "        ret.update({u:{}})\n",
    "        for v,i in g[u].items():\n",
    "            ret[u].update({v:{0:i}})\n",
    "    \n",
    "    return ret\n",
    "\n",
    "def print_multi_graph(g):\n",
    "    for u in g.keys():\n",
    "        for v in g[u].keys():\n",
    "            l = []\n",
    "            for i in g[u][v].keys():\n",
    "                l.append(str(i)+':'+str(g[u][v][i]))\n",
    "            print((u,v),\"\".join(str(x)+\" \" for x in l))"
   ]
  },
  {
   "cell_type": "code",
   "execution_count": 6,
   "metadata": {},
   "outputs": [
    {
     "name": "stdout",
     "output_type": "stream",
     "text": [
      "{0: {1: {0: 1}}, 1: {2: {0: 1, 1: 1}, 1: {0: 1}}, 2: {1: {0: 1}}, 3: {2: {0: 1, 1: 1}, 1: {0: 1}}}\n",
      "\n",
      "\n",
      "\n",
      "(0, 1) 0:1 \n",
      "(1, 2) 0:1 1:1 \n",
      "(1, 1) 0:1 \n",
      "(2, 1) 0:1 \n",
      "(3, 2) 0:1 1:1 \n",
      "(3, 1) 0:1 \n"
     ]
    }
   ],
   "source": [
    "'''d_g = {\n",
    "0: {1: 10, 2: 1}, \n",
    "1: {2: 1, 3: 5}, \n",
    "2: {3: 1},\n",
    "3: {1: 1, 0:20}\n",
    "}'''\n",
    "\n",
    "#print(graph_2_multigraph(d_g)\n",
    "#mg = graph_2_multigraph(d_g)\n",
    "print(g)\n",
    "print('\\n\\n')\n",
    "\n",
    "print_multi_graph(g)"
   ]
  },
  {
   "cell_type": "code",
   "execution_count": 61,
   "metadata": {},
   "outputs": [
    {
     "name": "stdout",
     "output_type": "stream",
     "text": [
      "[1, 3, 1, 3] \n",
      " [0, 4, 4, 0]\n",
      "False\n",
      "[2, 2, 1, 0] \n",
      " [1, 2, 1, 1]\n",
      "True\n",
      "()\n",
      "(0, 3)\n"
     ]
    }
   ],
   "source": [
    "def adj_inc_directed_multigraph(d_mg):\n",
    "    \n",
    "    adj = [0]*len(d_mg)\n",
    "    inc = [0]*len(d_mg)\n",
    "    \n",
    "    for key_n,value_n in d_mg.items():\n",
    "        for key_adj,value_adj in value_n.items():\n",
    "            for keys_edg in value_adj.keys():\n",
    "                adj[key_n]+=1\n",
    "                inc[key_adj]+=1\n",
    "    \n",
    "    return adj,inc\n",
    "\n",
    "def __get_u_v__(inc,adj):\n",
    "    u = None\n",
    "    v = None # índice del último nodo\n",
    "     \n",
    "    for i in range(len(adj)):\n",
    "        # check for u\n",
    "        if inc[i] == adj[i] - 1 and u == None:\n",
    "            u = i\n",
    "            \n",
    "        # check for v\n",
    "        if inc[i] == adj[i] + 1 and v == None:\n",
    "            v = i\n",
    "    \n",
    "    return u,v\n",
    "\n",
    "def isthere_euler_path_directed_multigraph(d_mg):\n",
    "    \"\"\"\n",
    "    Seguimos el corolario de las notesGraphs_2018\n",
    "    \n",
    "    \"\"\"\n",
    "    adj, inc = adj_inc_directed_multigraph(d_mg)\n",
    "   \n",
    "    u,v = __get_u_v__(inc,adj)\n",
    "    \n",
    "    if u == None or v == None: # No tenemos nodo inicial/final\n",
    "        return False\n",
    "    \n",
    "    return all([True if adj[n] == inc[n] or n == u or n == v else False for n in range(len(adj))])\n",
    "    \n",
    "    \n",
    "def first_last_euler_path_directed_multigraph(d_mg):\n",
    "    if not isthere_euler_path_directed_multigraph(d_mg): \n",
    "        return ()\n",
    "    else:\n",
    "        adj, inc = adj_inc_directed_multigraph(d_mg)\n",
    "        u,v = __get_u_v__(inc,adj)\n",
    "        \n",
    "        return (u,v)\n",
    "\n",
    "    \n",
    "d_g_camino = { # sabemos que este grafo tiene camino euleriano\n",
    "0: {1:{0:1}, 3:{0:1}}, \n",
    "1: {1:{0:1},2: {0:1}}, \n",
    "2: {0: {0:1}},\n",
    "3: {}\n",
    "}\n",
    "    \n",
    "adj, inc = adj_inc_directed_multigraph(g);\n",
    "print(adj,\"\\n\", inc)\n",
    "print(isthere_euler_path_directed_multigraph(g))\n",
    "adj, inc = adj_inc_directed_multigraph(d_g_camino);\n",
    "print(adj,\"\\n\", inc)\n",
    "print(isthere_euler_path_directed_multigraph(d_g_camino))\n",
    "print(first_last_euler_path_directed_multigraph(g))\n",
    "print(first_last_euler_path_directed_multigraph(d_g_camino))\n",
    "    "
   ]
  },
  {
   "cell_type": "code",
   "execution_count": 63,
   "metadata": {},
   "outputs": [
    {
     "name": "stdout",
     "output_type": "stream",
     "text": [
      "[(0, 1), (1, 1), (1, 2), (2, 0), (0, 3)]\n",
      "[(2, 0), (0, 1), (1, 1), (1, 2)]\n",
      "[]\n"
     ]
    }
   ],
   "source": [
    "def euler_walk_directed_multigraph(u, d_mg):\n",
    "    c = copy.deepcopy(d_mg)\n",
    "    ret =  []\n",
    "    \n",
    "    while d_mg[u].keys():\n",
    "        if not list(c[u].keys()):\n",
    "            break\n",
    "        \n",
    "        z = list(c[u].keys())[0]\n",
    "        \n",
    "        p = list(c[u][z])[0]\n",
    "        \n",
    "        ret.append((u,z))\n",
    "        \n",
    "        c[u][z].pop(p)\n",
    "        \n",
    "        if not c[u][z].keys(): \n",
    "            c[u].pop(z)\n",
    "        \n",
    "        u = z\n",
    "    \n",
    "    return ret\n",
    "\n",
    "print(euler_walk_directed_multigraph(0,d_g_camino))\n",
    "print(euler_walk_directed_multigraph(2,d_g_camino))\n",
    "print(euler_walk_directed_multigraph(3,d_g_camino))\n",
    "\n",
    "\n",
    "def next_first_node(l_path,d_mg):\n",
    "    "
   ]
  },
  {
   "cell_type": "code",
   "execution_count": 37,
   "metadata": {},
   "outputs": [
    {
     "name": "stdout",
     "output_type": "stream",
     "text": [
      "l\n",
      "{0: {}, 1: {'x': 'c'}, 2: {'i': 'j'}}\n",
      "c\n",
      "{0: {}, 1: {}, 2: {'i': 'j'}}\n",
      "j\n",
      "{0: {}, 1: {}, 2: {}}\n"
     ]
    }
   ],
   "source": [
    "c = {0:{\"h\":\"l\"},1:{\"x\":\"c\"},2:{\"i\":\"j\"}}\n",
    "\n",
    "d = copy.deepcopy(c)\n",
    "\n",
    "for k in c.keys():\n",
    "    for k2 in c[k].keys():\n",
    "        print(d[k].pop(k2))\n",
    "        print(d)"
   ]
  },
  {
   "cell_type": "code",
   "execution_count": 39,
   "metadata": {},
   "outputs": [
    {
     "name": "stdout",
     "output_type": "stream",
     "text": [
      "hola\n"
     ]
    }
   ],
   "source": [
    "a = []\n",
    "\n",
    "if not a: \n",
    "    print('hola')\n",
    "else: print('no')"
   ]
  }
 ],
 "metadata": {
  "kernelspec": {
   "display_name": "Python 3",
   "language": "python",
   "name": "python3"
  },
  "language_info": {
   "codemirror_mode": {
    "name": "ipython",
    "version": 3
   },
   "file_extension": ".py",
   "mimetype": "text/x-python",
   "name": "python",
   "nbconvert_exporter": "python",
   "pygments_lexer": "ipython3",
   "version": "3.6.3"
  }
 },
 "nbformat": 4,
 "nbformat_minor": 1
}
