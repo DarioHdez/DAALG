{
 "cells": [
  {
   "cell_type": "code",
   "execution_count": 1,
   "metadata": {},
   "outputs": [],
   "source": [
    "import string, random\n",
    "import numpy as np\n",
    "import matplotlib.pyplot as plt\n",
    "import sys\n",
    "import time\n",
    "import gzip\n",
    "import pickle\n",
    "import itertools\n",
    "import queue as qe\n",
    "\n",
    "from sklearn.linear_model import LinearRegression\n",
    "\n",
    "import networkx as nx"
   ]
  },
  {
   "cell_type": "code",
   "execution_count": 2,
   "metadata": {},
   "outputs": [
    {
     "name": "stdout",
     "output_type": "stream",
     "text": [
      "{1: {0: {'weight': 10}}, 2: {0: {'weight': 1}, 1: {'weight': 1}}, 0: {0: {'weight': 10}}}\n"
     ]
    }
   ],
   "source": [
    "mg = nx.MultiDiGraph()\n",
    "\n",
    "mg.add_weighted_edges_from([(0, 1, 10), (0, 2, 1), (1, 2, 1), (2, 3, 1), (3, 1, 1)])\n",
    "mg.add_weighted_edges_from([(0, 0, 10), (0, 2, 1), (1, 2, 1), (2, 3, 1), (3, 1, 1)])\n",
    "\n",
    "print(mg[0])"
   ]
  },
  {
   "cell_type": "code",
   "execution_count": 3,
   "metadata": {},
   "outputs": [],
   "source": [
    "def m_mg_2_d_mg(m_mg):\n",
    "    ret = {}\n",
    "    \n",
    "    for i in range(m_mg.shape[0]):\n",
    "        ret.update({i:{}})\n",
    "        for j in m_mg[i]:\n",
    "            if j > 0:\n",
    "                ret[i].update({j:{}})\n",
    "                for k in range(j):\n",
    "                    ret[i][j].update({k:1})\n",
    "                    \n",
    "    return ret\n",
    "            \n",
    "def rand_unweighted_multigraph(n_nodes, num_max_multiple_edges = 3, prob = 0.5):\n",
    "    \n",
    "    ramas = np.random.binomial(num_max_multiple_edges-1, 1-prob, size=(n_nodes, n_nodes)) \n",
    "\n",
    "    return m_mg_2_d_mg(ramas)"
   ]
  },
  {
   "cell_type": "code",
   "execution_count": 4,
   "metadata": {},
   "outputs": [],
   "source": [
    "g = rand_unweighted_multigraph(4)"
   ]
  },
  {
   "cell_type": "code",
   "execution_count": 5,
   "metadata": {},
   "outputs": [],
   "source": [
    "def graph_2_multigraph(g):\n",
    "    ret = {}\n",
    "    \n",
    "    for u in g.keys():\n",
    "        ret.update({u:{}})\n",
    "        for v,i in g[u].items():\n",
    "            ret[u].update({v:{0:i}})\n",
    "    \n",
    "    return ret\n",
    "\n",
    "def print_multi_graph(g):\n",
    "    for u in g.keys():\n",
    "        for v in g[u].keys():\n",
    "            l = []\n",
    "            for i in g[u][v].keys():\n",
    "                l.append(str(i)+':'+str(g[u][v][i]))\n",
    "            print((u,v),\"\".join(str(x)+\" \" for x in l))"
   ]
  },
  {
   "cell_type": "code",
   "execution_count": 11,
   "metadata": {},
   "outputs": [
    {
     "name": "stdout",
     "output_type": "stream",
     "text": [
      "{0: {1: {0: 10}, 2: {0: 1}}, 1: {2: {0: 1}, 3: {0: 5}}, 2: {3: {0: 1}}, 3: {1: {0: 1}, 0: {0: 20}}}\n",
      "\n",
      "\n",
      "\n",
      "(0, 1) 0:1 \n",
      "(1, 1) 0:1 \n",
      "(1, 2) 0:1 1:1 \n",
      "(2, 1) 0:1 \n",
      "(3, 2) 0:1 1:1 \n"
     ]
    }
   ],
   "source": [
    "d_g = {\n",
    "0: {1: 10, 2: 1}, \n",
    "1: {2: 1, 3: 5}, \n",
    "2: {3: 1},\n",
    "3: {1: 1, 0:20}\n",
    "}\n",
    "\n",
    "print(graph_2_multigraph(d_g))\n",
    "print('\\n\\n')\n",
    "\n",
    "print_multi_graph(g)"
   ]
  },
  {
   "cell_type": "code",
   "execution_count": 10,
   "metadata": {},
   "outputs": [
    {
     "name": "stdout",
     "output_type": "stream",
     "text": [
      "[1, 3, 1, 2] \n",
      " [0, 3, 4, 0]\n"
     ]
    }
   ],
   "source": [
    "def adj_inc_directed_multigraph(d_mg):\n",
    "    \n",
    "    adj = [0]*len(d_mg)\n",
    "    inc = [0]*len(d_mg)\n",
    "    \n",
    "    for key_n,value_n in d_mg.items():\n",
    "        for key_adj,value_adj in value_n.items():\n",
    "            for keys_edg in value_adj.keys():\n",
    "                adj[key_n]+=1\n",
    "                inc[key_adj]+=1\n",
    "    \n",
    "    return adj,inc\n",
    "\n",
    "def isthere_euler_path_directed_multigraph(d_mg):\n",
    "    adj, inc = adj_inc_directed_multigraph(g)\n",
    "    \n",
    "    \n",
    "\n",
    "#print(adj,\"\\n\", inc)\n",
    "    "
   ]
  },
  {
   "cell_type": "code",
   "execution_count": null,
   "metadata": {},
   "outputs": [],
   "source": [
    "def ewdm_rec(used_paths,u,d_mg):\n",
    "    pass\n",
    "\n",
    "def euler_walk_directed_multigraph(u, d_mg):\n",
    "    \n",
    "    used_paths = []\n",
    "    \n",
    "    if u not in d_mg.keys(): return []\n",
    "    \n",
    "    for keys,values in d_mg[u].items():\n",
    "        for keys_n, values_n in values.items():\n",
    "            "
   ]
  }
 ],
 "metadata": {
  "kernelspec": {
   "display_name": "Python 3",
   "language": "python",
   "name": "python3"
  },
  "language_info": {
   "codemirror_mode": {
    "name": "ipython",
    "version": 3
   },
   "file_extension": ".py",
   "mimetype": "text/x-python",
   "name": "python",
   "nbconvert_exporter": "python",
   "pygments_lexer": "ipython3",
   "version": "3.7.0"
  }
 },
 "nbformat": 4,
 "nbformat_minor": 2
}
