{
 "cells": [
  {
   "cell_type": "code",
   "execution_count": 1,
   "metadata": {
    "collapsed": true
   },
   "outputs": [],
   "source": [
    "import string, random\n",
    "import numpy as np\n",
    "import matplotlib.pyplot as plt\n",
    "import sys\n",
    "import time\n",
    "import gzip\n",
    "import pickle\n",
    "import itertools\n",
    "import queue as qe\n",
    "\n",
    "from sklearn.linear_model import LinearRegression\n",
    "\n",
    "import networkx as nx"
   ]
  },
  {
   "cell_type": "code",
   "execution_count": 2,
   "metadata": {},
   "outputs": [
    {
     "name": "stdout",
     "output_type": "stream",
     "text": [
      "{1: {0: {'weight': 10}}, 2: {0: {'weight': 1}, 1: {'weight': 1}}, 0: {0: {'weight': 10}}}\n"
     ]
    }
   ],
   "source": [
    "mg = nx.MultiDiGraph()\n",
    "\n",
    "mg.add_weighted_edges_from([(0, 1, 10), (0, 2, 1), (1, 2, 1), (2, 3, 1), (3, 1, 1)])\n",
    "mg.add_weighted_edges_from([(0, 0, 10), (0, 2, 1), (1, 2, 1), (2, 3, 1), (3, 1, 1)])\n",
    "\n",
    "print(mg[0])"
   ]
  },
  {
   "cell_type": "code",
   "execution_count": 4,
   "metadata": {
    "collapsed": true
   },
   "outputs": [],
   "source": [
    "def m_mg_2_d_mg(m_mg):\n",
    "    ret = {}\n",
    "    \n",
    "    for i in range(m_mg.shape[0]):\n",
    "        ret.update({i:{}})\n",
    "        for j in m_mg[i]:\n",
    "            if j > 0:\n",
    "                ret[i].update({j:{}})\n",
    "                for k in range(j):\n",
    "                    ret[i][j].update({k:1})\n",
    "                    \n",
    "    return ret\n",
    "            \n",
    "def rand_unweighted_multigraph(n_nodes, num_max_multiple_edges = 3, prob = 0.5):\n",
    "    \n",
    "    ramas = np.random.binomial(num_max_multiple_edges-1, 1-prob, size=(n_nodes, n_nodes)) \n",
    "\n",
    "    return m_mg_2_d_mg(ramas)"
   ]
  },
  {
   "cell_type": "code",
   "execution_count": 52,
   "metadata": {},
   "outputs": [],
   "source": [
    "g = rand_unweighted_multigraph(4)"
   ]
  },
  {
   "cell_type": "code",
   "execution_count": 6,
   "metadata": {
    "collapsed": true
   },
   "outputs": [],
   "source": [
    "def graph_2_multigraph(g):\n",
    "    ret = {}\n",
    "    \n",
    "    for u in g.keys():\n",
    "        ret.update({u:{}})\n",
    "        for v,i in g[u].items():\n",
    "            ret[u].update({v:{0:i}})\n",
    "    \n",
    "    return ret\n",
    "\n",
    "def print_multi_graph(g):\n",
    "    for u in g.keys():\n",
    "        for v in g[u].keys():\n",
    "            l = []\n",
    "            for i in g[u][v].keys():\n",
    "                l.append(str(i)+':'+str(g[u][v][i]))\n",
    "            print((u,v),\"\".join(str(x)+\" \" for x in l))"
   ]
  },
  {
   "cell_type": "code",
   "execution_count": 53,
   "metadata": {},
   "outputs": [
    {
     "name": "stdout",
     "output_type": "stream",
     "text": [
      "{0: {1: {0: 10}, 2: {0: 1}}, 1: {2: {0: 1}, 3: {0: 5}}, 2: {3: {0: 1}}, 3: {1: {0: 1}, 0: {0: 20}}}\n",
      "\n",
      "\n",
      "\n",
      "(0, 1) 0:1 \n",
      "(0, 2) 0:1 1:1 \n",
      "(1, 1) 0:1 \n",
      "(2, 1) 0:1 \n",
      "(3, 1) 0:1 \n",
      "\n",
      "\n",
      "\n",
      "{0: {1: {0: 1}, 2: {0: 1, 1: 1}}, 1: {1: {0: 1}}, 2: {1: {0: 1}}, 3: {1: {0: 1}}}\n"
     ]
    }
   ],
   "source": [
    "d_g = {\n",
    "0: {1: 10, 2: 1}, \n",
    "1: {2: 1, 3: 5}, \n",
    "2: {3: 1},\n",
    "3: {1: 1, 0:20}\n",
    "}\n",
    "\n",
    "print(graph_2_multigraph(d_g))\n",
    "print('\\n\\n')\n",
    "\n",
    "print_multi_graph(g)\n",
    "print('\\n\\n')\n",
    "\n",
    "print(g)"
   ]
  },
  {
   "cell_type": "code",
   "execution_count": 54,
   "metadata": {},
   "outputs": [
    {
     "name": "stdout",
     "output_type": "stream",
     "text": [
      "3\n",
      "1\n",
      "1\n",
      "1\n"
     ]
    }
   ],
   "source": [
    "def adj_inc_directed_multigraph(d_mg):\n",
    "    \n",
    "    adj = []\n",
    "    inc = []\n",
    "    \n",
    "    adj_count = 0\n",
    "    \n",
    "    for k in d_mg.keys():\n",
    "        for keys,values in d_mg[k].items():\n",
    "            adj_count += len(list(d_mg[k][keys].values()))\n",
    "        \n",
    "        print(adj_count)\n",
    "        adj_count = 0\n",
    "\n",
    "adj_inc_directed_multigraph(g)\n",
    "        \n",
    "    "
   ]
  },
  {
   "cell_type": "code",
   "execution_count": null,
   "metadata": {},
   "outputs": [],
   "source": []
  }
 ],
 "metadata": {
  "kernelspec": {
   "display_name": "Python 3",
   "language": "python",
   "name": "python3"
  },
  "language_info": {
   "codemirror_mode": {
    "name": "ipython",
    "version": 3
   },
   "file_extension": ".py",
   "mimetype": "text/x-python",
   "name": "python",
   "nbconvert_exporter": "python",
   "pygments_lexer": "ipython3",
   "version": "3.6.3"
  }
 },
 "nbformat": 4,
 "nbformat_minor": 2
}
