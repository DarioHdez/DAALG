{
 "metadata": {
  "kernelspec": {
   "display_name": "Python 3",
   "language": "python",
   "name": "python3"
  },
  "language_info": {
   "codemirror_mode": {
    "name": "ipython",
    "version": 3
   },
   "file_extension": ".py",
   "mimetype": "text/x-python",
   "name": "python",
   "nbconvert_exporter": "python",
   "pygments_lexer": "ipython3",
   "version": "3.6.3"
  },
  "name": "",
  "signature": "sha256:562fa8ad3eb400598072c4fae0395ae6e58f88119979ba938e2f28da5c83929d"
 },
 "nbformat": 3,
 "nbformat_minor": 0,
 "worksheets": [
  {
   "cells": [
    {
     "cell_type": "code",
     "collapsed": true,
     "input": [
      "import string, random\n",
      "import numpy as np\n",
      "import matplotlib.pyplot as plt\n",
      "import sys\n",
      "import time\n",
      "import gzip\n",
      "import pickle\n",
      "import itertools\n",
      "import queue as qe\n",
      "import copy\n",
      "\n",
      "from sklearn.linear_model import LinearRegression\n",
      "\n",
      "import networkx as nx"
     ],
     "language": "python",
     "metadata": {},
     "outputs": [],
     "prompt_number": 1
    },
    {
     "cell_type": "code",
     "collapsed": false,
     "input": [
      "mg = nx.MultiDiGraph()\n",
      "\n",
      "mg.add_weighted_edges_from([(0, 1, 10), (0, 2, 1), (1, 2, 1), (2, 3, 1), (3, 1, 1)])\n",
      "mg.add_weighted_edges_from([(0, 0, 10), (0, 2, 1), (1, 2, 1), (2, 3, 1), (3, 1, 1)])\n",
      "\n",
      "print(mg[0])"
     ],
     "language": "python",
     "metadata": {},
     "outputs": [
      {
       "output_type": "stream",
       "stream": "stdout",
       "text": [
        "{0: {0: {'weight': 10}}, 1: {0: {'weight': 10}}, 2: {0: {'weight': 1}, 1: {'weight': 1}}}\n"
       ]
      }
     ],
     "prompt_number": 2
    },
    {
     "cell_type": "code",
     "collapsed": true,
     "input": [
      "def m_mg_2_d_mg(m_mg):\n",
      "    ret = {}\n",
      "    \n",
      "    for i in range(m_mg.shape[0]):\n",
      "        ret.update({i:{}})\n",
      "        for j in m_mg[i]:\n",
      "            if j > 0:\n",
      "                ret[i].update({j:{}})\n",
      "                for k in range(j):\n",
      "                    ret[i][j].update({k:1})\n",
      "                    \n",
      "    return ret\n",
      "            \n",
      "def rand_unweighted_multigraph(n_nodes, num_max_multiple_edges = 3, prob = 0.5):\n",
      "    \n",
      "    ramas = np.random.binomial(num_max_multiple_edges-1, 1-prob, size=(n_nodes, n_nodes)) \n",
      "\n",
      "    return m_mg_2_d_mg(ramas)"
     ],
     "language": "python",
     "metadata": {},
     "outputs": [],
     "prompt_number": 3
    },
    {
     "cell_type": "code",
     "collapsed": true,
     "input": [
      "g = rand_unweighted_multigraph(4)"
     ],
     "language": "python",
     "metadata": {},
     "outputs": [],
     "prompt_number": 4
    },
    {
     "cell_type": "code",
     "collapsed": true,
     "input": [
      "def graph_2_multigraph(g):\n",
      "    ret = {}\n",
      "    \n",
      "    for u in g.keys():\n",
      "        ret.update({u:{}})\n",
      "        for v,i in g[u].items():\n",
      "            ret[u].update({v:{0:i}})\n",
      "    \n",
      "    return ret\n",
      "\n",
      "def print_multi_graph(g):\n",
      "    for u in g.keys():\n",
      "        for v in g[u].keys():\n",
      "            l = []\n",
      "            for i in g[u][v].keys():\n",
      "                l.append(str(i)+':'+str(g[u][v][i]))\n",
      "            print((u,v),\"\".join(str(x)+\" \" for x in l))"
     ],
     "language": "python",
     "metadata": {},
     "outputs": [],
     "prompt_number": 5
    },
    {
     "cell_type": "code",
     "collapsed": false,
     "input": [
      "'''d_g = {\n",
      "0: {1: 10, 2: 1}, \n",
      "1: {2: 1, 3: 5}, \n",
      "2: {3: 1},\n",
      "3: {1: 1, 0:20}\n",
      "}'''\n",
      "\n",
      "#print(graph_2_multigraph(d_g)\n",
      "#mg = graph_2_multigraph(d_g)\n",
      "print(g)\n",
      "print('\\n\\n')\n",
      "\n",
      "print_multi_graph(g)"
     ],
     "language": "python",
     "metadata": {},
     "outputs": [
      {
       "output_type": "stream",
       "stream": "stdout",
       "text": [
        "{0: {1: {0: 1}, 2: {0: 1, 1: 1}}, 1: {1: {0: 1}, 2: {0: 1, 1: 1}}, 2: {1: {0: 1}, 2: {0: 1, 1: 1}}, 3: {1: {0: 1}, 2: {0: 1, 1: 1}}}\n",
        "\n",
        "\n",
        "\n",
        "(0, 1) 0:1 \n",
        "(0, 2) 0:1 1:1 \n",
        "(1, 1) 0:1 \n",
        "(1, 2) 0:1 1:1 \n",
        "(2, 1) 0:1 \n",
        "(2, 2) 0:1 1:1 \n",
        "(3, 1) 0:1 \n",
        "(3, 2) 0:1 1:1 \n"
       ]
      }
     ],
     "prompt_number": 6
    },
    {
     "cell_type": "code",
     "collapsed": false,
     "input": [
      "def adj_inc_directed_multigraph(d_mg):\n",
      "    \n",
      "    adj = [0]*len(d_mg)\n",
      "    inc = [0]*len(d_mg)\n",
      "    \n",
      "    for key_n,value_n in d_mg.items():\n",
      "        for key_adj,value_adj in value_n.items():\n",
      "            for keys_edg in value_adj.keys():\n",
      "                adj[key_n]+=1\n",
      "                inc[key_adj]+=1\n",
      "    \n",
      "    return adj,inc\n",
      "\n",
      "def __get_u_v__(inc,adj):\n",
      "    u = None\n",
      "    v = None # \u00edndice del \u00faltimo nodo\n",
      "     \n",
      "    for i in range(len(adj)):\n",
      "        # check for u\n",
      "        if inc[i] == adj[i] - 1 and u == None:\n",
      "            u = i\n",
      "            \n",
      "        # check for v\n",
      "        if inc[i] == adj[i] + 1 and v == None:\n",
      "            v = i\n",
      "    \n",
      "    return u,v\n",
      "\n",
      "def isthere_euler_path_directed_multigraph(d_mg):\n",
      "    \"\"\"\n",
      "    Seguimos el corolario de las notesGraphs_2018\n",
      "    \n",
      "    \"\"\"\n",
      "    adj, inc = adj_inc_directed_multigraph(d_mg)\n",
      "   \n",
      "    u,v = __get_u_v__(inc,adj)\n",
      "    \n",
      "    if u == None or v == None: # No tenemos nodo inicial/final\n",
      "        return False\n",
      "    \n",
      "    return all([True if adj[n] == inc[n] or n == u or n == v else False for n in range(len(adj))])\n",
      "    \n",
      "    \n",
      "def first_last_euler_path_directed_multigraph(d_mg):\n",
      "    if not isthere_euler_path_directed_multigraph(d_mg): \n",
      "        return ()\n",
      "    else:\n",
      "        adj, inc = adj_inc_directed_multigraph(d_mg)\n",
      "        u,v = __get_u_v__(inc,adj)\n",
      "        \n",
      "        return (u,v)\n",
      "\n",
      "    \n",
      "d_g_camino = { # sabemos que este grafo tiene camino euleriano\n",
      "0: {1:{0:1}, 3:{0:1}}, \n",
      "1: {1:{0:1},2: {0:1}}, \n",
      "2: {0: {0:1}},\n",
      "3: {}\n",
      "}\n",
      "    \n",
      "adj, inc = adj_inc_directed_multigraph(g);\n",
      "print(adj,\"\\n\", inc)\n",
      "print(isthere_euler_path_directed_multigraph(g))\n",
      "adj, inc = adj_inc_directed_multigraph(d_g_camino);\n",
      "print(adj,\"\\n\", inc)\n",
      "print(isthere_euler_path_directed_multigraph(d_g_camino))\n",
      "print(first_last_euler_path_directed_multigraph(g))\n",
      "print(first_last_euler_path_directed_multigraph(d_g_camino))\n",
      "    "
     ],
     "language": "python",
     "metadata": {},
     "outputs": [
      {
       "output_type": "stream",
       "stream": "stdout",
       "text": [
        "[3, 3, 3, 3] \n",
        " [0, 4, 8, 0]\n",
        "False\n",
        "[2, 2, 1, 0] \n",
        " [1, 2, 1, 1]\n",
        "True\n",
        "()\n",
        "(0, 3)\n"
       ]
      }
     ],
     "prompt_number": 49
    },
    {
     "cell_type": "code",
     "collapsed": false,
     "input": [
      "d_g_camino2 = { # sabemos que este grafo tiene camino euleriano\n",
      "1: {2:{0:1}}, \n",
      "2: {3:{0:1}, 4:{0:1}}, \n",
      "3: {4:{0:1}},\n",
      "4: {6:{0:1}, 7:{0:1}},\n",
      "5: {2:{0:1}},\n",
      "6: {},\n",
      "7: {5:{0:1}}\n",
      "}\n",
      "\n",
      "def euler_walk_directed_multigraph(u, d_mg):\n",
      "    c = copy.deepcopy(d_mg)\n",
      "    ret =  []\n",
      "    \n",
      "    while d_mg[u].keys():\n",
      "        if not list(c[u].keys()):\n",
      "            break\n",
      "        \n",
      "        z = list(c[u].keys())[0]\n",
      "        \n",
      "        p = list(c[u][z])[0]\n",
      "        \n",
      "        ret.append((u,z))\n",
      "        \n",
      "        c[u][z].pop(p)\n",
      "        \n",
      "        if not c[u][z].keys(): \n",
      "            c[u].pop(z)\n",
      "        \n",
      "        u = z\n",
      "    \n",
      "    return ret\n",
      "\n",
      "\n",
      "def next_first_node(l_path,d_mg):\n",
      "    #c = copy.deepcopy(d_mg)\n",
      "    for tup in l_path:\n",
      "        d_mg[tup[0]].pop(tup[1])\n",
      "    \n",
      "    for k, v in d_mg.items():\n",
      "        if v.keys():\n",
      "            return k\n",
      "    \n",
      "    return None\n",
      "\n",
      "\n",
      "def path_stitch(path_1, path_2):\n",
      "    ret = []\n",
      "    \n",
      "    for tup1 in path_1:\n",
      "        ret.append(tup1)\n",
      "        if tup1[1] == path_2[0][0]:\n",
      "            for tup2 in path_2:\n",
      "                ret.append(tup2)\n",
      "    \n",
      "    return ret\n",
      "\n",
      "print(d_g_camino2)\n",
      "#print(euler_walk_directed_multigraph(0,d_g_camino))\n",
      "print(euler_walk_directed_multigraph(1,d_g_camino2))\n",
      "#print(euler_walk_directed_multigraph(3,d_g_camino))\n",
      "#print(next_first_node(euler_walk_directed_multigraph(0,d_g_camino), d_g_camino))\n",
      "l1 = euler_walk_directed_multigraph(1,d_g_camino2)\n",
      "n = next_first_node(euler_walk_directed_multigraph(1,d_g_camino2), d_g_camino2)\n",
      "print(euler_walk_directed_multigraph(n,d_g_camino2))\n",
      "l2 = euler_walk_directed_multigraph(n,d_g_camino2)\n",
      "\n",
      "print(path_stitch(l1, l2))"
     ],
     "language": "python",
     "metadata": {},
     "outputs": [
      {
       "output_type": "stream",
       "stream": "stdout",
       "text": [
        "{1: {2: {0: 1}}, 2: {3: {0: 1}, 4: {0: 1}}, 3: {4: {0: 1}}, 4: {6: {0: 1}, 7: {0: 1}}, 5: {2: {0: 1}}, 6: {}, 7: {5: {0: 1}}}\n",
        "[(1, 2), (2, 3), (3, 4), (4, 6)]\n",
        "[(2, 4), (4, 7), (7, 5), (5, 2)]\n",
        "[(1, 2), (2, 4), (4, 7), (7, 5), (5, 2), (2, 3), (3, 4), (4, 6)]\n"
       ]
      }
     ],
     "prompt_number": 81
    },
    {
     "cell_type": "code",
     "collapsed": false,
     "input": [
      "#c = {0:{\"h\":\"l\"},1:{\"x\":\"c\"},2:{\"i\":\"j\"}}\n",
      "c = [(0, 1), (1, 1), (1, 2), (2, 0), (0, 3)]\n",
      "\n",
      "print(c[0][1])"
     ],
     "language": "python",
     "metadata": {},
     "outputs": [
      {
       "output_type": "stream",
       "stream": "stdout",
       "text": [
        "1\n"
       ]
      }
     ],
     "prompt_number": 38
    },
    {
     "cell_type": "code",
     "collapsed": false,
     "input": [
      "a = []\n",
      "\n",
      "if not a: \n",
      "    print('hola')\n",
      "else: print('no')"
     ],
     "language": "python",
     "metadata": {},
     "outputs": [
      {
       "output_type": "stream",
       "stream": "stdout",
       "text": [
        "hola\n"
       ]
      }
     ],
     "prompt_number": 39
    }
   ],
   "metadata": {}
  }
 ]
}