{
 "cells": [
  {
   "cell_type": "code",
   "execution_count": 85,
   "metadata": {},
   "outputs": [],
   "source": [
    "import numpy as np\n",
    "import math\n"
   ]
  },
  {
   "cell_type": "code",
   "execution_count": 86,
   "metadata": {},
   "outputs": [],
   "source": [
    "def _closest_pow2(n):\n",
    "    return 2**(math.ceil(math.log(n, 2)))\n",
    "\n",
    "def _fft_rec(t,K):\n",
    "    ret = []\n",
    "    \n",
    "    if K == 0:\n",
    "        return t\n",
    "    else:\n",
    "        evens, odds = t[::2],t[1::2]\n",
    "        rec_evens = _fft_rec(evens,K-1)\n",
    "        rec_odds = _fft_rec(odds,K-1)\n",
    "        a_len = int(2**(K-1))\n",
    "        \n",
    "        for i in range(len(t)):\n",
    "            n =  rec_evens[i % a_len] + np.exp((2j*math.pi * i/2**K)) * rec_odds[i % a_len]\n",
    "            ret.append(np.around(n, 3))\n",
    "        \n",
    "        return ret\n",
    "    \n",
    "def fft(t):\n",
    "    t_len = len(t)\n",
    "    \n",
    "    next_pow = _closest_pow2(t_len)\n",
    "    k = math.log(next_pow,2)\n",
    "    num_add_zeros = next_pow - t_len\n",
    "    zeros_array = np.array([0]*num_add_zeros)\n",
    "    complete_array = np.concatenate((t,zeros_array),axis=0)\n",
    "\n",
    "    return np.array(_fft_rec(complete_array,k))\n",
    "\n",
    "\n",
    "def invert_fft(t, fft_func=fft):\n",
    "    t_len = len(t)\n",
    "    \n",
    "    next_pow = _closest_pow2(t_len)\n",
    "    k = math.log(next_pow,2)\n",
    "    num_add_zeros = next_pow - t_len\n",
    "    zeros_array = np.array([0]*num_add_zeros)\n",
    "    complete_array = np.concatenate((t,zeros_array),axis=0)\n",
    "    \n",
    "    t_conj = [np.conj(n) for n in complete_array]\n",
    "    \n",
    "    dft = fft_func(t_conj)\n",
    "    \n",
    "    dft_conj = [np.conj(n) for n in dft]\n",
    "    \n",
    "    return [n/len(t) for n in dft_conj]"
   ]
  },
  {
   "cell_type": "code",
   "execution_count": 87,
   "metadata": {},
   "outputs": [
    {
     "name": "stdout",
     "output_type": "stream",
     "text": [
      "[(2.5-0j), (-0.5+0.5j), (-0.5+0j), (-0.5-0.5j)]\n"
     ]
    }
   ],
   "source": [
    "a = np.array([1,2,3,4])\n",
    "\n",
    "#s = fft(a)\n",
    "t = invert_fft(a)\n",
    "\n",
    "print(t)\n"
   ]
  },
  {
   "cell_type": "code",
   "execution_count": 88,
   "metadata": {},
   "outputs": [
    {
     "data": {
      "text/plain": [
       "[3, 0, 0, 4, 3, 3, 1, 1, 3, 3, 2, 2, 4, 1, 4, 10]"
      ]
     },
     "execution_count": 88,
     "metadata": {},
     "output_type": "execute_result"
    }
   ],
   "source": [
    "b = list(np.random.randint(low=0, high=5, size=15))\n",
    "b.append(10)\n",
    "b"
   ]
  },
  {
   "cell_type": "code",
   "execution_count": 263,
   "metadata": {},
   "outputs": [
    {
     "name": "stdout",
     "output_type": "stream",
     "text": [
      "1263957871363095120965027680716536665619941980592286287645898217987630928734350044113700118547167345210397419465864315335982064674075563229273221534500490949176336413318486994213861775859230248552781554268682860210778724064251481901116133518998680286191613018003077206699022853277494208576370386923592853626552\n"
     ]
    }
   ],
   "source": [
    "def rand_polinomio(long=2**10,base=10):\n",
    "    ret = list(np.random.randint(low=0, high=base, size=long-1).astype('uint8'))\n",
    "    ret.append(np.random.randint(low=1, high=base))\n",
    "    return ret\n",
    "\n",
    "def poli_2_num(l_pol,base=10):\n",
    "    ret = 0\n",
    "    \n",
    "    for i in range(len(l_pol)):\n",
    "        ret += int(l_pol[i]*pow(base, i))\n",
    "    return ret\n",
    "\n",
    "\n",
    "l = rand_polinomio()\n",
    "#print(l)\n",
    "print(poli_2_num(l, 2))"
   ]
  },
  {
   "cell_type": "code",
   "execution_count": 286,
   "metadata": {},
   "outputs": [
    {
     "name": "stdout",
     "output_type": "stream",
     "text": [
      "[9, 4, 7, 7, 7]\n",
      "77749\n",
      "[1, 0, 2, 4, 2]\n"
     ]
    }
   ],
   "source": [
    "def rand_numero(num_digits,base=10):\n",
    "    poli = rand_polinomio(num_digits, base)\n",
    "    print(poli)\n",
    "    \n",
    "    return poli_2_num(poli, base)\n",
    "\n",
    "def num_2_poli(num,base=10):\n",
    "        \n",
    "    poli = []\n",
    "    while True:\n",
    "        remain = num % base\n",
    "        poli.append(remain)\n",
    "        num = math.floor(num / base)\n",
    "        if num == 0:\n",
    "            break\n",
    "\n",
    "    return poli\n",
    "\n",
    "\n",
    "print(rand_numero(5))\n",
    "print(num_2_poli(1801, 5))"
   ]
  },
  {
   "cell_type": "code",
   "execution_count": 287,
   "metadata": {},
   "outputs": [
    {
     "name": "stdout",
     "output_type": "stream",
     "text": [
      "[1, 3, 0, 4, 12]\n"
     ]
    }
   ],
   "source": [
    "def mult_polinomios(l_pol_1, l_pol_2):\n",
    "    prod = [0]*(len(l_pol_1)+len(l_pol_2)-1)\n",
    "    \n",
    "    for i in range(len(l_pol_1)):\n",
    "        for j in range(len(l_pol_2)):\n",
    "            prod[i+j] = prod[i+j] + l_pol_1[i] * l_pol_2[j]\n",
    "    \n",
    "    return prod\n",
    "\n",
    "def mult_polinomios_fft(l_pol_1, l_pol_2, fft_func=fft):\n",
    "    pass\n",
    "\n",
    "l_a = [1, 3]\n",
    "l_b = [1, 0, 0, 4]\n",
    "print(mult_polinomios(l_a, l_b))"
   ]
  }
 ],
 "metadata": {
  "kernelspec": {
   "display_name": "Python 3",
   "language": "python",
   "name": "python3"
  },
  "language_info": {
   "codemirror_mode": {
    "name": "ipython",
    "version": 3
   },
   "file_extension": ".py",
   "mimetype": "text/x-python",
   "name": "python",
   "nbconvert_exporter": "python",
   "pygments_lexer": "ipython3",
   "version": "3.6.7"
  }
 },
 "nbformat": 4,
 "nbformat_minor": 2
}
