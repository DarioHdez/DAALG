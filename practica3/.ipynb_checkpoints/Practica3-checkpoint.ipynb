{
 "cells": [
  {
   "cell_type": "code",
   "execution_count": 1,
   "metadata": {},
   "outputs": [],
   "source": [
    "import numpy as np\n",
    "import math\n",
    "import timeit\n",
    "from random import shuffle\n",
    "from statistics import median"
   ]
  },
  {
   "cell_type": "code",
   "execution_count": 2,
   "metadata": {},
   "outputs": [],
   "source": [
    "def _closest_pow2(n):\n",
    "    return 2**(math.ceil(math.log(n, 2)))\n",
    "\n",
    "def _fft_rec(t,K):\n",
    "    ret = []\n",
    "    \n",
    "    if K == 0:\n",
    "        return t\n",
    "    else:\n",
    "        evens, odds = t[::2],t[1::2]\n",
    "        rec_evens = _fft_rec(evens,K-1)\n",
    "        rec_odds = _fft_rec(odds,K-1)\n",
    "        a_len = int(2**(K-1))\n",
    "        \n",
    "        for i in range(len(t)):\n",
    "            n =  rec_evens[i % a_len] + np.exp((2j*math.pi * i/2**K)) * rec_odds[i % a_len]\n",
    "            ret.append(np.around(n, 3))\n",
    "        \n",
    "        return ret\n",
    "    \n",
    "def fft(t):\n",
    "    t_len = len(t)\n",
    "    \n",
    "    next_pow = _closest_pow2(t_len)\n",
    "    k = math.log(next_pow,2)\n",
    "    num_add_zeros = next_pow - t_len\n",
    "    zeros_array = np.array([0]*num_add_zeros)\n",
    "    complete_array = np.concatenate((t,zeros_array),axis=0)\n",
    "    \n",
    "\n",
    "    return np.array(_fft_rec(complete_array,k))\n",
    "\n",
    "\n",
    "def invert_fft(t, fft_func=fft):\n",
    "    t_len = len(t)\n",
    "    \n",
    "    next_pow = _closest_pow2(t_len)\n",
    "    k = math.log(next_pow,2)\n",
    "    num_add_zeros = next_pow - t_len\n",
    "    zeros_array = np.array([0]*num_add_zeros)\n",
    "    complete_array = np.concatenate((t,zeros_array),axis=0)\n",
    "    \n",
    "    t_conj = [np.conj(n) for n in complete_array]\n",
    "    \n",
    "    dft = fft_func(t_conj)\n",
    "    \n",
    "    dft_conj = [np.conj(n) for n in dft]\n",
    "    \n",
    "    return [n/len(t) for n in dft_conj]"
   ]
  },
  {
   "cell_type": "code",
   "execution_count": 3,
   "metadata": {},
   "outputs": [
    {
     "name": "stdout",
     "output_type": "stream",
     "text": [
      "[10.+0.j -2.-2.j -2.+0.j -2.+2.j]\n"
     ]
    }
   ],
   "source": [
    "a = np.array([1,2,3,4])\n",
    "\n",
    "s = fft(a)\n",
    "#t = invert_fft(a)\n",
    "\n",
    "print(s)\n"
   ]
  },
  {
   "cell_type": "code",
   "execution_count": 4,
   "metadata": {},
   "outputs": [
    {
     "data": {
      "text/plain": [
       "[0, 0, 2, 2, 4, 2, 2, 3, 0, 3, 4, 2, 1, 3, 3, 10]"
      ]
     },
     "execution_count": 4,
     "metadata": {},
     "output_type": "execute_result"
    }
   ],
   "source": [
    "b = list(np.random.randint(low=0, high=5, size=15))\n",
    "b.append(10)\n",
    "b"
   ]
  },
  {
   "cell_type": "code",
   "execution_count": 5,
   "metadata": {},
   "outputs": [
    {
     "name": "stdout",
     "output_type": "stream",
     "text": [
      "957159204502496307873332957858027522528597759517524418320469414573318473484108085285740665949648158955348500161298877912036857274804728103121578137780173580862369251282009077204521345464221238495320506899357235959500071658318306592517336965841464010946561422217816196721637433579068260208975105131698447707998\n"
     ]
    }
   ],
   "source": [
    "def rand_polinomio(long=2**10,base=10):\n",
    "    ret = list(np.random.randint(low=0, high=base, size=long-1).astype('uint8'))\n",
    "    #print(ret)\n",
    "    ret.append(np.random.randint(low=1, high=base))\n",
    "    return ret\n",
    "\n",
    "def poli_2_num(l_pol,base=10):\n",
    "    ret = 0\n",
    "    \n",
    "    for i in range(len(l_pol)):\n",
    "        ret += int(l_pol[i]*pow(base, i))\n",
    "    return ret\n",
    "\n",
    "\n",
    "l = rand_polinomio()\n",
    "#print(l)\n",
    "print(poli_2_num(l, 2))"
   ]
  },
  {
   "cell_type": "code",
   "execution_count": 6,
   "metadata": {},
   "outputs": [
    {
     "name": "stdout",
     "output_type": "stream",
     "text": [
      "25461\n",
      "[1, 0, 2, 4, 2]\n"
     ]
    }
   ],
   "source": [
    "def rand_numero(num_digits,base=10):\n",
    "    poli = rand_polinomio(num_digits, base)\n",
    "    \n",
    "    return poli_2_num(poli, base)\n",
    "\n",
    "def num_2_poli(num,base=10):\n",
    "        \n",
    "    poli = []\n",
    "    while True:\n",
    "        remain = num % base\n",
    "        poli.append(remain)\n",
    "        num = math.floor(num / base)\n",
    "        if num == 0:\n",
    "            break\n",
    "\n",
    "    return poli\n",
    "\n",
    "\n",
    "print(rand_numero(5))\n",
    "print(num_2_poli(1801, 5))"
   ]
  },
  {
   "cell_type": "code",
   "execution_count": 7,
   "metadata": {},
   "outputs": [
    {
     "name": "stdout",
     "output_type": "stream",
     "text": [
      "[1, 4, 12, 16, 15]\n",
      "[1.0, 3.99975, 11.9995, 15.99875, 15.0, 0.00025, 0.0005, 0.00125]\n",
      "154736\n",
      "154736\n"
     ]
    }
   ],
   "source": [
    "def _padding_polinomios(l_pol_1, l_pol_2):\n",
    "    long_prod = len(l_pol_1)+len(l_pol_2)-1 #longitud del polinomio producto\n",
    "    \n",
    "    next_pow2 = _closest_pow2(long_prod)\n",
    "    \n",
    "    num_add_zeros_pol1 = next_pow2 - len(l_pol_1)\n",
    "    zeros_array_pol1 = np.array([0]*num_add_zeros_pol1)\n",
    "    complete_array_pol1 = np.concatenate((l_pol_1,zeros_array_pol1),axis=0)\n",
    "    \n",
    "    num_add_zeros_pol2 = next_pow2 - len(l_pol_2)\n",
    "    zeros_array_pol2 = np.array([0]*num_add_zeros_pol2)\n",
    "    complete_array_pol2 = np.concatenate((l_pol_2,zeros_array_pol2),axis=0)\n",
    "    \n",
    "    return complete_array_pol1, complete_array_pol2\n",
    "\n",
    "def mult_polinomios(l_pol_1, l_pol_2):\n",
    "    prod = [0]*(len(l_pol_1)+len(l_pol_2)-1)\n",
    "    \n",
    "    for i in range(len(l_pol_1)):\n",
    "        for j in range(len(l_pol_2)):\n",
    "            prod[i+j] = prod[i+j] + l_pol_1[i] * l_pol_2[j]\n",
    "    \n",
    "    return prod\n",
    "\n",
    "def mult_polinomios_fft(l_pol_1, l_pol_2, fft_func=fft):\n",
    "    ret = []\n",
    "    \n",
    "    l_pol_1_pad, l_pol_2_pad = _padding_polinomios(l_pol_1, l_pol_2)\n",
    "    \n",
    "    \n",
    "    # Realizamos la fft para pol_1 y pol_2\n",
    "    fft_pol_1 = fft_func(l_pol_1_pad)\n",
    "    fft_pol_2 = fft_func(l_pol_2_pad)\n",
    "    \n",
    "    \n",
    "    \n",
    "    if len(fft_pol_1) != len(fft_pol_2):\n",
    "        pass\n",
    "    else:\n",
    "        for (i,j) in zip(fft_pol_1,fft_pol_2):\n",
    "            ret.append(i*j)\n",
    "    \n",
    "    prod_pol = [n.real for n in invert_fft(ret)]\n",
    "    \n",
    "    \n",
    "    return prod_pol\n",
    "\n",
    "\n",
    "def mult_numeros(num1, num2):\n",
    "    pol1 = num_2_poli(num1)\n",
    "    pol2 = num_2_poli(num2)\n",
    "    \n",
    "    pol_mul = mult_polinomios(pol1, pol2)\n",
    "    \n",
    "    return poli_2_num(pol_mul)\n",
    "\n",
    "\n",
    "def mult_numeros_fft(num1, num2, fft_func=fft):\n",
    "    pol1 = num_2_poli(num1)\n",
    "    pol2 = num_2_poli(num2)\n",
    "    \n",
    "    \n",
    "    pol_mul = mult_polinomios_fft(pol1, pol2, fft_func)\n",
    "    \n",
    "    return poli_2_num(pol_mul)\n",
    "\n",
    "l_a = [1,2,5]\n",
    "l_b = [1,2,3]\n",
    "print(mult_polinomios(l_a, l_b))\n",
    "print(mult_polinomios_fft(l_a,l_b))\n",
    "print(mult_numeros(304, 509))\n",
    "print(mult_numeros_fft(304, 509))"
   ]
  },
  {
   "cell_type": "code",
   "execution_count": 8,
   "metadata": {
    "scrolled": true
   },
   "outputs": [
    {
     "name": "stdout",
     "output_type": "stream",
     "text": [
      "[1.75067000e-04 1.05646999e-04 1.02724001e-04 1.04776000e-04\n",
      " 5.16189994e-05 3.17107999e-04 1.08017999e-04 1.13002001e-04\n",
      " 7.38070012e-05 7.91709990e-05 1.41487999e-04 1.02371001e-04]\n",
      "\n",
      "\n",
      "[0.00124163 0.00209062 0.00276595 0.00229663 0.0009726  0.00164502\n",
      " 0.00352943 0.00326319 0.00109223 0.00103413 0.00219257 0.00365271]\n"
     ]
    }
   ],
   "source": [
    "def time_mult_numeros(n_pairs, num_digits_ini, num_digits_fin, step):\n",
    "    \n",
    "    def local_rand_numeros(num):\n",
    "        return mult_numeros(rand_numero(num), rand_numero(num))\n",
    "    \n",
    "    num_pair = 0\n",
    "    times = []\n",
    "    \n",
    "    while num_pair < n_pairs:\n",
    "        num_digits_actual = num_digits_ini\n",
    "    \n",
    "        while num_digits_actual <= num_digits_fin:\n",
    "            # , setup = \"from __main__ import mult_numeros, rand_numero, num_digits_actual\", number = 1\n",
    "            times.append(timeit.timeit(lambda: local_rand_numeros(num_digits_actual), number=1))\n",
    "            num_digits_actual += step\n",
    "        \n",
    "        num_pair += 1\n",
    "    \n",
    "    return np.array(times)\n",
    "\n",
    "\n",
    "def time_mult_numeros_fft(n_pairs, num_digits_ini, num_digits_fin, step, fft_func=fft):\n",
    "    \n",
    "    def local_rand_numeros(num):\n",
    "        return mult_numeros_fft(rand_numero(num), rand_numero(num),fft_func=fft_func)\n",
    "    \n",
    "    num_pair = 0\n",
    "    times = []\n",
    "\n",
    "    while num_pair < n_pairs:\n",
    "        num_digits_actual = num_digits_ini\n",
    "    \n",
    "        while num_digits_actual <= num_digits_fin:\n",
    "            # , setup = \"from __main__ import mult_numeros, rand_numero, num_digits_actual\", number = 1\n",
    "            times.append(timeit.timeit(lambda: local_rand_numeros(num_digits_actual), number=1))\n",
    "            num_digits_actual += step\n",
    "        \n",
    "        num_pair += 1\n",
    "    \n",
    "    return np.array(times)\n",
    "\n",
    "\n",
    "print(time_mult_numeros(3, 3, 6, 1))\n",
    "print('\\n')\n",
    "print(time_mult_numeros_fft(3, 3, 6, 1))"
   ]
  },
  {
   "cell_type": "code",
   "execution_count": 23,
   "metadata": {},
   "outputs": [
    {
     "name": "stdout",
     "output_type": "stream",
     "text": [
      "[3, 1, 8, 0, 2, 6, 7, 4, 9, 5]\n"
     ]
    },
    {
     "ename": "KeyboardInterrupt",
     "evalue": "",
     "output_type": "error",
     "traceback": [
      "\u001b[0;31m---------------------------------------------------------------------------\u001b[0m",
      "\u001b[0;31mKeyboardInterrupt\u001b[0m                         Traceback (most recent call last)",
      "\u001b[0;32m<ipython-input-23-c980ea5c4e9c>\u001b[0m in \u001b[0;36m<module>\u001b[0;34m\u001b[0m\n\u001b[1;32m    136\u001b[0m \u001b[0;31m#print(a)\u001b[0m\u001b[0;34m\u001b[0m\u001b[0;34m\u001b[0m\u001b[0;34m\u001b[0m\u001b[0m\n\u001b[1;32m    137\u001b[0m \u001b[0;31m#print(qselect_sr(a, 0, 99, 35))\u001b[0m\u001b[0;34m\u001b[0m\u001b[0;34m\u001b[0m\u001b[0;34m\u001b[0m\u001b[0m\n\u001b[0;32m--> 138\u001b[0;31m \u001b[0mprint\u001b[0m\u001b[0;34m(\u001b[0m\u001b[0mqselect_5\u001b[0m\u001b[0;34m(\u001b[0m\u001b[0ma\u001b[0m\u001b[0;34m,\u001b[0m\u001b[0;36m0\u001b[0m\u001b[0;34m,\u001b[0m\u001b[0;36m9\u001b[0m\u001b[0;34m,\u001b[0m\u001b[0;36m2\u001b[0m\u001b[0;34m)\u001b[0m\u001b[0;34m)\u001b[0m\u001b[0;34m\u001b[0m\u001b[0;34m\u001b[0m\u001b[0m\n\u001b[0m",
      "\u001b[0;32m<ipython-input-23-c980ea5c4e9c>\u001b[0m in \u001b[0;36mqselect_5\u001b[0;34m(t, ini, fin, pos)\u001b[0m\n\u001b[1;32m    117\u001b[0m             \u001b[0;32mreturn\u001b[0m \u001b[0mini\u001b[0m\u001b[0;34m\u001b[0m\u001b[0;34m\u001b[0m\u001b[0m\n\u001b[1;32m    118\u001b[0m \u001b[0;34m\u001b[0m\u001b[0m\n\u001b[0;32m--> 119\u001b[0;31m         \u001b[0mpivotIndex\u001b[0m \u001b[0;34m=\u001b[0m \u001b[0mpivot_5\u001b[0m\u001b[0;34m(\u001b[0m\u001b[0mt\u001b[0m\u001b[0;34m,\u001b[0m \u001b[0mini\u001b[0m\u001b[0;34m,\u001b[0m \u001b[0mfin\u001b[0m\u001b[0;34m)\u001b[0m\u001b[0;34m\u001b[0m\u001b[0;34m\u001b[0m\u001b[0m\n\u001b[0m\u001b[1;32m    120\u001b[0m         \u001b[0mpivotIndex\u001b[0m \u001b[0;34m=\u001b[0m \u001b[0msplit_pivot\u001b[0m\u001b[0;34m(\u001b[0m\u001b[0mt\u001b[0m\u001b[0;34m,\u001b[0m \u001b[0mini\u001b[0m\u001b[0;34m,\u001b[0m \u001b[0mfin\u001b[0m\u001b[0;34m,\u001b[0m \u001b[0mpivotIndex\u001b[0m\u001b[0;34m)\u001b[0m\u001b[0;34m\u001b[0m\u001b[0;34m\u001b[0m\u001b[0m\n\u001b[1;32m    121\u001b[0m         \u001b[0;32mif\u001b[0m \u001b[0mpos\u001b[0m \u001b[0;34m==\u001b[0m \u001b[0mpivotIndex\u001b[0m\u001b[0;34m:\u001b[0m\u001b[0;34m\u001b[0m\u001b[0;34m\u001b[0m\u001b[0m\n",
      "\u001b[0;32m<ipython-input-23-c980ea5c4e9c>\u001b[0m in \u001b[0;36mpivot_5\u001b[0;34m(t, ini, fin)\u001b[0m\n\u001b[1;32m    107\u001b[0m \u001b[0;34m\u001b[0m\u001b[0m\n\u001b[1;32m    108\u001b[0m      \u001b[0;31m#compute the median of the n/5 medians-of-five\u001b[0m\u001b[0;34m\u001b[0m\u001b[0;34m\u001b[0m\u001b[0;34m\u001b[0m\u001b[0m\n\u001b[0;32m--> 109\u001b[0;31m     \u001b[0;32mreturn\u001b[0m \u001b[0mqselect_5\u001b[0m\u001b[0;34m(\u001b[0m\u001b[0mt\u001b[0m\u001b[0;34m,\u001b[0m \u001b[0mini\u001b[0m\u001b[0;34m,\u001b[0m \u001b[0mini\u001b[0m \u001b[0;34m+\u001b[0m \u001b[0mmath\u001b[0m\u001b[0;34m.\u001b[0m\u001b[0mfloor\u001b[0m\u001b[0;34m(\u001b[0m\u001b[0;34m(\u001b[0m\u001b[0mfin\u001b[0m \u001b[0;34m-\u001b[0m \u001b[0mini\u001b[0m\u001b[0;34m)\u001b[0m \u001b[0;34m/\u001b[0m \u001b[0;36m5\u001b[0m\u001b[0;34m)\u001b[0m\u001b[0;34m,\u001b[0m \u001b[0;34m(\u001b[0m\u001b[0mfin\u001b[0m \u001b[0;34m-\u001b[0m \u001b[0mini\u001b[0m\u001b[0;34m)\u001b[0m\u001b[0;34m/\u001b[0m\u001b[0;36m10\u001b[0m \u001b[0;34m+\u001b[0m \u001b[0;36m1\u001b[0m\u001b[0;34m)\u001b[0m\u001b[0;34m\u001b[0m\u001b[0;34m\u001b[0m\u001b[0m\n\u001b[0m\u001b[1;32m    110\u001b[0m \u001b[0;34m\u001b[0m\u001b[0m\n\u001b[1;32m    111\u001b[0m \u001b[0;34m\u001b[0m\u001b[0m\n",
      "\u001b[0;32m<ipython-input-23-c980ea5c4e9c>\u001b[0m in \u001b[0;36mqselect_5\u001b[0;34m(t, ini, fin, pos)\u001b[0m\n\u001b[1;32m    117\u001b[0m             \u001b[0;32mreturn\u001b[0m \u001b[0mini\u001b[0m\u001b[0;34m\u001b[0m\u001b[0;34m\u001b[0m\u001b[0m\n\u001b[1;32m    118\u001b[0m \u001b[0;34m\u001b[0m\u001b[0m\n\u001b[0;32m--> 119\u001b[0;31m         \u001b[0mpivotIndex\u001b[0m \u001b[0;34m=\u001b[0m \u001b[0mpivot_5\u001b[0m\u001b[0;34m(\u001b[0m\u001b[0mt\u001b[0m\u001b[0;34m,\u001b[0m \u001b[0mini\u001b[0m\u001b[0;34m,\u001b[0m \u001b[0mfin\u001b[0m\u001b[0;34m)\u001b[0m\u001b[0;34m\u001b[0m\u001b[0;34m\u001b[0m\u001b[0m\n\u001b[0m\u001b[1;32m    120\u001b[0m         \u001b[0mpivotIndex\u001b[0m \u001b[0;34m=\u001b[0m \u001b[0msplit_pivot\u001b[0m\u001b[0;34m(\u001b[0m\u001b[0mt\u001b[0m\u001b[0;34m,\u001b[0m \u001b[0mini\u001b[0m\u001b[0;34m,\u001b[0m \u001b[0mfin\u001b[0m\u001b[0;34m,\u001b[0m \u001b[0mpivotIndex\u001b[0m\u001b[0;34m)\u001b[0m\u001b[0;34m\u001b[0m\u001b[0;34m\u001b[0m\u001b[0m\n\u001b[1;32m    121\u001b[0m         \u001b[0;32mif\u001b[0m \u001b[0mpos\u001b[0m \u001b[0;34m==\u001b[0m \u001b[0mpivotIndex\u001b[0m\u001b[0;34m:\u001b[0m\u001b[0;34m\u001b[0m\u001b[0;34m\u001b[0m\u001b[0m\n",
      "\u001b[0;32m<ipython-input-23-c980ea5c4e9c>\u001b[0m in \u001b[0;36mpivot_5\u001b[0;34m(t, ini, fin)\u001b[0m\n\u001b[1;32m     95\u001b[0m     \u001b[0;31m#for 5 or less elements just get median\u001b[0m\u001b[0;34m\u001b[0m\u001b[0;34m\u001b[0m\u001b[0;34m\u001b[0m\u001b[0m\n\u001b[1;32m     96\u001b[0m     \u001b[0;32mif\u001b[0m \u001b[0;34m(\u001b[0m\u001b[0mfin\u001b[0m \u001b[0;34m-\u001b[0m \u001b[0mini\u001b[0m\u001b[0;34m)\u001b[0m \u001b[0;34m<\u001b[0m \u001b[0;36m5\u001b[0m\u001b[0;34m:\u001b[0m\u001b[0;34m\u001b[0m\u001b[0;34m\u001b[0m\u001b[0m\n\u001b[0;32m---> 97\u001b[0;31m         \u001b[0;32mreturn\u001b[0m \u001b[0msplit_pivot\u001b[0m\u001b[0;34m(\u001b[0m\u001b[0mt\u001b[0m\u001b[0;34m,\u001b[0m \u001b[0mini\u001b[0m\u001b[0;34m,\u001b[0m \u001b[0mfin\u001b[0m\u001b[0;34m)\u001b[0m\u001b[0;34m\u001b[0m\u001b[0;34m\u001b[0m\u001b[0m\n\u001b[0m\u001b[1;32m     98\u001b[0m     \u001b[0;31m#otherwise move the medians of five-element subgroups to the first n/5 positions\u001b[0m\u001b[0;34m\u001b[0m\u001b[0;34m\u001b[0m\u001b[0;34m\u001b[0m\u001b[0m\n\u001b[1;32m     99\u001b[0m     \u001b[0;32mfor\u001b[0m \u001b[0mi\u001b[0m \u001b[0;32min\u001b[0m \u001b[0mt\u001b[0m\u001b[0;34m[\u001b[0m\u001b[0mini\u001b[0m\u001b[0;34m:\u001b[0m\u001b[0mfin\u001b[0m\u001b[0;34m:\u001b[0m\u001b[0;36m5\u001b[0m\u001b[0;34m]\u001b[0m\u001b[0;34m:\u001b[0m\u001b[0;34m\u001b[0m\u001b[0;34m\u001b[0m\u001b[0m\n",
      "\u001b[0;32m<ipython-input-23-c980ea5c4e9c>\u001b[0m in \u001b[0;36msplit_pivot\u001b[0;34m(t, ini, fin, pivot)\u001b[0m\n\u001b[1;32m     28\u001b[0m \u001b[0;34m\u001b[0m\u001b[0m\n\u001b[1;32m     29\u001b[0m     \u001b[0;32mif\u001b[0m \u001b[0;34m(\u001b[0m\u001b[0mpivot\u001b[0m \u001b[0;34m==\u001b[0m \u001b[0;32mNone\u001b[0m\u001b[0;34m)\u001b[0m\u001b[0;34m:\u001b[0m\u001b[0;34m\u001b[0m\u001b[0;34m\u001b[0m\u001b[0m\n\u001b[0;32m---> 30\u001b[0;31m         \u001b[0;32mreturn\u001b[0m \u001b[0msplit\u001b[0m\u001b[0;34m(\u001b[0m\u001b[0mt\u001b[0m\u001b[0;34m,\u001b[0m \u001b[0mini\u001b[0m\u001b[0;34m,\u001b[0m \u001b[0mfin\u001b[0m\u001b[0;34m)\u001b[0m\u001b[0;34m\u001b[0m\u001b[0;34m\u001b[0m\u001b[0m\n\u001b[0m\u001b[1;32m     31\u001b[0m \u001b[0;34m\u001b[0m\u001b[0m\n\u001b[1;32m     32\u001b[0m     \u001b[0;32massert\u001b[0m \u001b[0mini\u001b[0m \u001b[0;34m>=\u001b[0m \u001b[0;36m0\u001b[0m \u001b[0;32mand\u001b[0m \u001b[0mfin\u001b[0m \u001b[0;34m<\u001b[0m \u001b[0mlen\u001b[0m\u001b[0;34m(\u001b[0m\u001b[0mt\u001b[0m\u001b[0;34m)\u001b[0m\u001b[0;34m,\u001b[0m \u001b[0;34m\"Los indices 'ini' y/o 'fin' se han introducido incorrectamente\"\u001b[0m\u001b[0;34m\u001b[0m\u001b[0;34m\u001b[0m\u001b[0m\n",
      "\u001b[0;32m<ipython-input-23-c980ea5c4e9c>\u001b[0m in \u001b[0;36msplit\u001b[0;34m(t, ini, fin)\u001b[0m\n\u001b[1;32m     10\u001b[0m \u001b[0;34m\u001b[0m\u001b[0m\n\u001b[1;32m     11\u001b[0m         \u001b[0;32mwhile\u001b[0m \u001b[0mleftPointer\u001b[0m \u001b[0;34m<\u001b[0m \u001b[0mfin\u001b[0m \u001b[0;32mand\u001b[0m \u001b[0mt\u001b[0m\u001b[0;34m[\u001b[0m\u001b[0mleftPointer\u001b[0m\u001b[0;34m]\u001b[0m \u001b[0;34m<\u001b[0m \u001b[0mpivot\u001b[0m\u001b[0;34m:\u001b[0m\u001b[0;34m\u001b[0m\u001b[0;34m\u001b[0m\u001b[0m\n\u001b[0;32m---> 12\u001b[0;31m             \u001b[0mleftPointer\u001b[0m \u001b[0;34m+=\u001b[0m \u001b[0;36m1\u001b[0m\u001b[0;34m\u001b[0m\u001b[0;34m\u001b[0m\u001b[0m\n\u001b[0m\u001b[1;32m     13\u001b[0m \u001b[0;34m\u001b[0m\u001b[0m\n\u001b[1;32m     14\u001b[0m         \u001b[0;32mwhile\u001b[0m \u001b[0mrightPointer\u001b[0m \u001b[0;34m>\u001b[0m \u001b[0mini\u001b[0m \u001b[0;32mand\u001b[0m \u001b[0mt\u001b[0m\u001b[0;34m[\u001b[0m\u001b[0mrightPointer\u001b[0m\u001b[0;34m]\u001b[0m \u001b[0;34m>\u001b[0m \u001b[0mpivot\u001b[0m\u001b[0;34m:\u001b[0m\u001b[0;34m\u001b[0m\u001b[0;34m\u001b[0m\u001b[0m\n",
      "\u001b[0;31mKeyboardInterrupt\u001b[0m: "
     ]
    }
   ],
   "source": [
    "def split(t, ini, fin):\n",
    "    \n",
    "    assert ini >= 0 and fin < len(t), \"Los indices 'ini' y/o 'fin' se han introducido incorrectamente\"\n",
    "    \n",
    "    pivot = t[ini]\n",
    "    \n",
    "    leftPointer, rightPointer = ini+1, fin\n",
    "    \n",
    "    while True:\n",
    "        \n",
    "        while leftPointer < fin and t[leftPointer] < pivot:\n",
    "            leftPointer += 1\n",
    "        \n",
    "        while rightPointer > ini and t[rightPointer] > pivot:\n",
    "            rightPointer -= 1\n",
    "        \n",
    "        if leftPointer >= rightPointer:\n",
    "            break;\n",
    "        else:\n",
    "            t[leftPointer], t[rightPointer] = t[rightPointer], t[leftPointer]\n",
    "    \n",
    "    t[ini], t[rightPointer] = t[rightPointer], t[ini]\n",
    "    \n",
    "    return rightPointer\n",
    "\n",
    "\n",
    "def split_pivot(t, ini, fin, pivot=None):\n",
    "    \n",
    "    if (pivot == None):\n",
    "        return split(t, ini, fin)\n",
    "    \n",
    "    assert ini >= 0 and fin < len(t), \"Los indices 'ini' y/o 'fin' se han introducido incorrectamente\"\n",
    "    assert pivot in t, \"pivot no está en la lista\"\n",
    "    \n",
    "    pivotIndex = t.index(pivot)\n",
    "    \n",
    "    t[pivotIndex], t[fin] = t[fin], t[pivotIndex]  # Movemos el pivote al final\n",
    "    index = ini\n",
    "    for i in range(ini, fin):\n",
    "        if t[i] < pivot:\n",
    "            t[index], t[i] = t[i], t[index]\n",
    "            index += 1\n",
    "    t[fin], t[index] = t[index], t[fin]  # Movemos el pivote a su respectivo lugar\n",
    "    \n",
    "    return index\n",
    "\n",
    "\n",
    "\n",
    "def qselect(t, ini, fin, ind, pivot=None):\n",
    "    \n",
    "    if ini == fin:\n",
    "        return t[ini]\n",
    "    \n",
    "    split_p = split_pivot(t, ini, fin, pivot)\n",
    "    \n",
    "    l = split_p - ini + 1\n",
    "    \n",
    "    if l == ind:\n",
    "        return t[split_p]\n",
    "    elif ind < l:\n",
    "        return qselect(t, ini, split_p-1, ind, pivot)\n",
    "    else:\n",
    "        return qselect(t, split_p+1, fin, ind -l, pivot)\n",
    "    \n",
    "\n",
    "def qselect_sr(t, ini, fin, ind, pivot=None):\n",
    "    \n",
    "    if ini == fin:\n",
    "        return t[ini]\n",
    "    \n",
    "    while True:\n",
    "    \n",
    "        split_p = split_pivot(t, ini, fin, pivot)\n",
    "\n",
    "        l = split_p - ini + 1\n",
    "\n",
    "        if l == ind:\n",
    "            return t[split_p]\n",
    "        elif ind < l:\n",
    "            fin = split_p-1\n",
    "        else:\n",
    "            ini = split_p+1\n",
    "            ind -= l\n",
    "\n",
    "\n",
    "                \n",
    "def pivot_5(t, ini, fin):\n",
    "    t = t[ini:fin]\n",
    "    \n",
    "    mid_lists = [t[i:i+5] for i in range(0, len(t), 5)]\n",
    "    \n",
    "    medians = [math.ceil(median(x)) for x in mid_lists]\n",
    "    \n",
    "    return math.ceil(median(medians))\n",
    "    \n",
    "    \n",
    "\n",
    "def qselect_5(t, ini, fin, pos):\n",
    "    \n",
    "    while True:\n",
    "        if ini == fin:\n",
    "            return ini\n",
    "            \n",
    "        pivotIndex = pivot_5(t, ini, fin)\n",
    "        pivotIndex = split_pivot(t, ini, fin, pivotIndex)\n",
    "        if pos == pivotIndex:\n",
    "            return pos\n",
    "        elif pos < pivotIndex:\n",
    "            fin = pivotIndex - 1\n",
    "        else:\n",
    "            ini = pivotIndex + 1\n",
    "\n",
    "\n",
    "#import random\n",
    "#random.seed(2)\n",
    "a = [n for n in range(10)]\n",
    "shuffle(a)\n",
    "#print(split(a, 0, 5))\n",
    "print(a)\n",
    "#print(split_pivot(a, 0, 5))\n",
    "#print(a)\n",
    "#print(qselect_sr(a, 0, 99, 35))\n",
    "print(qselect_5(a,0,9,2))"
   ]
  },
  {
   "cell_type": "code",
   "execution_count": 122,
   "metadata": {},
   "outputs": [
    {
     "name": "stdout",
     "output_type": "stream",
     "text": [
      "[4, 1, 0, 8, 9, 5, 7, 2, 3, 6]\n"
     ]
    },
    {
     "data": {
      "text/plain": [
       "4.5"
      ]
     },
     "execution_count": 122,
     "metadata": {},
     "output_type": "execute_result"
    }
   ],
   "source": [
    "b = [n for n in range(10)]\n",
    "shuffle(b)\n",
    "\n",
    "print(b)\n",
    "\n",
    "median(b)"
   ]
  }
 ],
 "metadata": {
  "kernelspec": {
   "display_name": "Python 3",
   "language": "python",
   "name": "python3"
  },
  "language_info": {
   "codemirror_mode": {
    "name": "ipython",
    "version": 3
   },
   "file_extension": ".py",
   "mimetype": "text/x-python",
   "name": "python",
   "nbconvert_exporter": "python",
   "pygments_lexer": "ipython3",
   "version": "3.6.7"
  }
 },
 "nbformat": 4,
 "nbformat_minor": 2
}
