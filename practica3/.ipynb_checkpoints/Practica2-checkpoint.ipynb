{
 "cells": [
  {
   "cell_type": "code",
   "execution_count": 1,
   "metadata": {},
   "outputs": [],
   "source": [
    "import numpy as np\n",
    "import math\n",
    "import sys"
   ]
  },
  {
   "cell_type": "code",
   "execution_count": 2,
   "metadata": {},
   "outputs": [],
   "source": [
    "def _closest_pow2(n):\n",
    "    return 2**(math.ceil(math.log(n, 2)))\n",
    "\n",
    "def _fft_rec(t,K):\n",
    "    ret = []\n",
    "    \n",
    "    if K == 0:\n",
    "        return t\n",
    "    else:\n",
    "        evens, odds = t[::2],t[1::2]\n",
    "        rec_evens = _fft_rec(evens,K-1)\n",
    "        rec_odds = _fft_rec(odds,K-1)\n",
    "        a_len = int(2**(K-1))\n",
    "        \n",
    "        for i in range(len(t)):\n",
    "            n =  rec_evens[i % a_len] + np.exp((2j*math.pi * i/2**K)) * rec_odds[i % a_len]\n",
    "            ret.append(np.around(n, 3))\n",
    "        \n",
    "        return ret\n",
    "    \n",
    "def fft(t):\n",
    "    t_len = len(t)\n",
    "    \n",
    "    next_pow = _closest_pow2(t_len)\n",
    "    k = math.log(next_pow,2)\n",
    "    num_add_zeros = next_pow - t_len\n",
    "    zeros_array = np.array([0]*num_add_zeros)\n",
    "    complete_array = np.concatenate((t,zeros_array),axis=0)\n",
    "\n",
    "    return np.array(_fft_rec(complete_array,k))\n",
    "\n",
    "\n",
    "def invert_fft(t, fft_func=fft):\n",
    "    t_len = len(t)\n",
    "    \n",
    "    next_pow = _closest_pow2(t_len)\n",
    "    k = math.log(next_pow,2)\n",
    "    num_add_zeros = next_pow - t_len\n",
    "    zeros_array = np.array([0]*num_add_zeros)\n",
    "    complete_array = np.concatenate((t,zeros_array),axis=0)\n",
    "    \n",
    "    t_conj = [np.conj(n) for n in complete_array]\n",
    "    \n",
    "    dft = fft_func(t_conj)\n",
    "    \n",
    "    dft_conj = [np.conj(n) for n in dft]\n",
    "    \n",
    "    return [n/len(t) for n in dft_conj]"
   ]
  },
  {
   "cell_type": "code",
   "execution_count": 3,
   "metadata": {},
   "outputs": [
    {
     "name": "stdout",
     "output_type": "stream",
     "text": [
      "[(2.5-0j), (-0.5+0.5j), (-0.5+0j), (-0.5-0.5j)]\n"
     ]
    }
   ],
   "source": [
    "a = np.array([1,2,3,4])\n",
    "\n",
    "#s = fft(a)\n",
    "t = invert_fft(a)\n",
    "\n",
    "print(t)\n"
   ]
  },
  {
   "cell_type": "code",
   "execution_count": 4,
   "metadata": {},
   "outputs": [
    {
     "data": {
      "text/plain": [
       "[0, 1, 1, 2, 3, 2, 4, 3, 3, 4, 0, 4, 0, 3, 4, 10]"
      ]
     },
     "execution_count": 4,
     "metadata": {},
     "output_type": "execute_result"
    }
   ],
   "source": [
    "b = list(np.random.randint(low=0, high=5, size=15))\n",
    "b.append(10)\n",
    "b"
   ]
  },
  {
   "cell_type": "code",
   "execution_count": 6,
   "metadata": {},
   "outputs": [
    {
     "name": "stdout",
     "output_type": "stream",
     "text": [
      "[2, 4, 3, 0, 2]\n",
      "203\n"
     ]
    }
   ],
   "source": [
    "def rand_polinomio(long=2**10,base=10):\n",
    "    ret = list(np.random.randint(low=0, high=base, size=long-1))\n",
    "    ret.append(np.random.randint(low=1, high=base))\n",
    "    return ret\n",
    "\n",
    "def poli_2_num(l_pol,base=10):\n",
    "    \n",
    "    l = list(reversed(l_pol))\n",
    "    \n",
    "    ret = l[0]\n",
    "    \n",
    "    for i in l[1:]:\n",
    "        ret = ret*base + i\n",
    "        \n",
    "    return ret\n",
    "\n",
    "\n",
    "l = rand_polinomio(5, 5)\n",
    "print(l)\n",
    "print(poli_2_num(l, 3))"
   ]
  },
  {
   "cell_type": "code",
   "execution_count": null,
   "metadata": {
    "collapsed": true
   },
   "outputs": [],
   "source": [
    "def rand_numero(num_digits,base=10):\n",
    "    pass\n",
    "\n",
    "def num_2_poli(num,base=10):\n",
    "    pass"
   ]
  }
 ],
 "metadata": {
  "kernelspec": {
   "display_name": "Python 3",
   "language": "python",
   "name": "python3"
  },
  "language_info": {
   "codemirror_mode": {
    "name": "ipython",
    "version": 3
   },
   "file_extension": ".py",
   "mimetype": "text/x-python",
   "name": "python",
   "nbconvert_exporter": "python",
   "pygments_lexer": "ipython3",
   "version": "3.6.7"
  }
 },
 "nbformat": 4,
 "nbformat_minor": 2
}
