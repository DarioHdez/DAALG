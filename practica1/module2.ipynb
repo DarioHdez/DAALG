{
 "cells": [
  {
   "cell_type": "code",
   "execution_count": null,
   "metadata": {},
   "outputs": [],
   "source": [
    "%matplotlib inline\n",
    "%load_ext autoreload\n",
    "%autoreload 2"
   ]
  },
  {
   "cell_type": "code",
   "execution_count": 2,
   "metadata": {},
   "outputs": [],
   "source": [
    "import string, random\n",
    "import numpy as np\n",
    "import matplotlib.pyplot as plt\n",
    "import sys\n",
    "import time\n",
    "\n",
    "import queue as qe\n",
    "\n",
    "from sklearn.linear_model import LinearRegression\n",
    "\n",
    "import networkx as nx"
   ]
  },
  {
   "cell_type": "code",
   "execution_count": 7,
   "metadata": {},
   "outputs": [],
   "source": [
    "def fit_plot(l, func_2_fit, size_ini, size_fin, step):\n",
    "    l_func_values =[i*func_2_fit(i) for i in range(size_ini, size_fin+1, step)]\n",
    "    \n",
    "    lr_m = LinearRegression()\n",
    "    X = np.array(l_func_values).reshape( len(l_func_values), -1 )\n",
    "    lr_m.fit(X, l)\n",
    "    y_pred = lr_m.predict(X)\n",
    "    \n",
    "    plt.plot(l, '*', y_pred, '-')\n",
    "\n",
    "def n2_log_n(n):\n",
    "    return n**2. * np.log(n)"
   ]
  },
  {
   "cell_type": "code",
   "execution_count": 13,
   "metadata": {},
   "outputs": [
    {
     "name": "stdout",
     "output_type": "stream",
     "text": [
      "graph_from_matrix:\n",
      "\n",
      "( 0 1 ) 10.0\n",
      "( 0 2 ) 1.0\n",
      "( 1 2 ) 1.0\n",
      "( 2 3 ) 1.0\n",
      "( 3 1 ) 1.0\n",
      "\n",
      "graph_from_dict:\n",
      "\n",
      "( 0 1 ) 10\n",
      "( 0 2 ) 1\n",
      "( 1 2 ) 1\n",
      "( 2 3 ) 1\n",
      "( 3 1 ) 1\n"
     ]
    }
   ],
   "source": [
    "l = [\n",
    "[0, 10, 1, np.inf],\n",
    "[np.inf, 0, 1, np.inf],\n",
    "[np.inf, np.inf, 0, 1 ],\n",
    "[np.inf, 1, np.inf, 0]\n",
    "]\n",
    "\n",
    "m_g = np.array(l)\n",
    "\n",
    "def print_m_g(m_g):\n",
    "    print(\"graph_from_matrix:\\n\")\n",
    "    n_v = m_g.shape[0]\n",
    "    for u in range(n_v):\n",
    "        for v in range(n_v):\n",
    "            if v != u and m_g[u, v] != np.inf:\n",
    "                print(\"(\", u, v, \")\", m_g[u, v])\n",
    "\n",
    "d_g = {\n",
    "0: {1: 10, 2: 1}, \n",
    "1: {2: 1}, \n",
    "2: {3: 1},\n",
    "3: {1: 1}\n",
    "}\n",
    "\n",
    "def print_d_g(d_g):\n",
    "    print(\"\\ngraph_from_dict:\\n\")\n",
    "    for u in d_g.keys():\n",
    "        for v in d_g[u].keys():\n",
    "            print(\"(\", u, v, \")\", d_g[u][v])\n",
    "\n",
    "print_m_g(m_g)\n",
    "print_d_g(d_g)"
   ]
  },
  {
   "cell_type": "code",
   "execution_count": 35,
   "metadata": {},
   "outputs": [
    {
     "name": "stdout",
     "output_type": "stream",
     "text": [
      "[[4 0 0 2 7]\n",
      " [9 1 6 8 1]\n",
      " [0 6 1 6 2]\n",
      " [9 6 9 8 4]\n",
      " [7 5 5 6 7]]\n"
     ]
    }
   ],
   "source": [
    "def rand_matr_pos_graph(n_nodes, sparse_factor, max_weight=50., decimals=0):    \n",
    "    \"\"\"\n",
    "    \"\"\"\n",
    "    grafo_completo = np.random.randint(0,max_weight,(n_nodes,n_nodes))\n",
    "    ramas =  np.random.binomial(1,sparse_factor,size=(n_nodes,n_nodes))  # dicta si hay ramas o no\n",
    "    \n",
    "        \n",
    "def m_g_2_d_g(m_g):\n",
    "    \"\"\"\n",
    "    \"\"\"\n",
    "    pass\n",
    "    \n",
    "\n",
    "def d_g_2_m_g(d_g):    \n",
    "    \"\"\"\n",
    "    \"\"\"\n",
    "    pass\n",
    "\n",
    "m_g = rand_matr_pos_graph(n_nodes=5, sparse_factor=0.5, max_weight=50.)    \n",
    "\n",
    "\n",
    "#d_g = m_g_2_d_g(m_g)\n",
    "#m_g_2 = d_g_2_m_g(d_g)\n",
    "\n",
    "#print_m_g(m_g)\n",
    "\n",
    "print(np.random.randint(0,10,(5,5)))\n",
    "#print_d_g(d_g)\n",
    "#print(\"\\nnum_elem_iguales:\\t%d\" % (m_g_2 == m_g).sum() )"
   ]
  }
 ],
 "metadata": {
  "kernelspec": {
   "display_name": "Python 3",
   "language": "python",
   "name": "python3"
  },
  "language_info": {
   "codemirror_mode": {
    "name": "ipython",
    "version": 3
   },
   "file_extension": ".py",
   "mimetype": "text/x-python",
   "name": "python",
   "nbconvert_exporter": "python",
   "pygments_lexer": "ipython3",
   "version": "3.6.5"
  }
 },
 "nbformat": 4,
 "nbformat_minor": 0
}
